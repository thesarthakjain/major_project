{
 "cells": [
  {
   "cell_type": "markdown",
   "id": "05ef56df",
   "metadata": {},
   "source": [
    "# Use this to convert recorded audio -> text -> summary\n",
    "---"
   ]
  },
  {
   "cell_type": "code",
   "execution_count": 1,
   "id": "018bed84",
   "metadata": {},
   "outputs": [
    {
     "name": "stdout",
     "output_type": "stream",
     "text": [
      "Requirement already satisfied: SpeechRecognition in c:\\users\\banana\\appdata\\local\\programs\\python\\python311\\lib\\site-packages (3.9.0)\n",
      "Requirement already satisfied: requests>=2.26.0 in c:\\users\\banana\\appdata\\local\\programs\\python\\python311\\lib\\site-packages (from SpeechRecognition) (2.28.2)\n",
      "Requirement already satisfied: charset-normalizer<4,>=2 in c:\\users\\banana\\appdata\\local\\programs\\python\\python311\\lib\\site-packages (from requests>=2.26.0->SpeechRecognition) (3.1.0)\n",
      "Requirement already satisfied: idna<4,>=2.5 in c:\\users\\banana\\appdata\\local\\programs\\python\\python311\\lib\\site-packages (from requests>=2.26.0->SpeechRecognition) (3.4)\n",
      "Requirement already satisfied: urllib3<1.27,>=1.21.1 in c:\\users\\banana\\appdata\\local\\programs\\python\\python311\\lib\\site-packages (from requests>=2.26.0->SpeechRecognition) (1.26.15)\n",
      "Requirement already satisfied: certifi>=2017.4.17 in c:\\users\\banana\\appdata\\local\\programs\\python\\python311\\lib\\site-packages (from requests>=2.26.0->SpeechRecognition) (2022.12.7)\n",
      "Requirement already satisfied: nltk in c:\\users\\banana\\appdata\\local\\programs\\python\\python311\\lib\\site-packages (3.8.1)\n",
      "Requirement already satisfied: click in c:\\users\\banana\\appdata\\local\\programs\\python\\python311\\lib\\site-packages (from nltk) (8.1.3)\n",
      "Requirement already satisfied: joblib in c:\\users\\banana\\appdata\\local\\programs\\python\\python311\\lib\\site-packages (from nltk) (1.2.0)\n",
      "Requirement already satisfied: regex>=2021.8.3 in c:\\users\\banana\\appdata\\local\\programs\\python\\python311\\lib\\site-packages (from nltk) (2022.10.31)\n",
      "Requirement already satisfied: tqdm in c:\\users\\banana\\appdata\\local\\programs\\python\\python311\\lib\\site-packages (from nltk) (4.65.0)\n",
      "Requirement already satisfied: colorama in c:\\users\\banana\\appdata\\local\\programs\\python\\python311\\lib\\site-packages (from click->nltk) (0.4.6)\n"
     ]
    }
   ],
   "source": [
    "!pip install SpeechRecognition\n",
    "!pip install nltk"
   ]
  },
  {
   "cell_type": "code",
   "execution_count": 2,
   "id": "498ca2c3",
   "metadata": {},
   "outputs": [],
   "source": [
    "import speech_recognition as sr\n",
    "from nltk.tokenize import sent_tokenize\n",
    "from nltk.corpus import stopwords\n",
    "from nltk.probability import FreqDist\n",
    "from nltk.tokenize import word_tokenize"
   ]
  },
  {
   "cell_type": "markdown",
   "id": "3cba7e7a",
   "metadata": {},
   "source": [
    "## 1. audio -> text"
   ]
  },
  {
   "cell_type": "code",
   "execution_count": 3,
   "id": "2d476b69",
   "metadata": {},
   "outputs": [
    {
     "name": "stdout",
     "output_type": "stream",
     "text": [
      "result2:\n",
      "{   'alternative': [   {   'confidence': 0.87899685,\n",
      "                           'transcript': 'tonight the moon who turns '\n",
      "                                         'spectacular shade of red Disco super '\n",
      "                                         'blood movement is a combination of '\n",
      "                                         'free phenomena is Superman I lunar '\n",
      "                                         'eclipse and the woof Ner just '\n",
      "                                         'kidding if you believe me or explain '\n",
      "                                         'everything'},\n",
      "                       {   'transcript': 'tonight the moon who turns '\n",
      "                                         'spectacular shade of red this '\n",
      "                                         'circuit super blood movement is a '\n",
      "                                         'combination of free phenomena is '\n",
      "                                         'Superman I lunar eclipse and the '\n",
      "                                         'woof Ner just kidding if you believe '\n",
      "                                         'me or explain everything'},\n",
      "                       {   'transcript': 'tonight the moon who turns '\n",
      "                                         'spectacular shade of red Disco super '\n",
      "                                         'blood movement is a combination of '\n",
      "                                         'free phenomenon is Superman I lunar '\n",
      "                                         'eclipse and the woof Ner just '\n",
      "                                         'kidding if you believe me or explain '\n",
      "                                         'everything'},\n",
      "                       {   'transcript': 'tonight the moon who turns '\n",
      "                                         'spectacular shade of red Disco super '\n",
      "                                         'blood movement is a combination of '\n",
      "                                         'free phenomena is Superman I lunar '\n",
      "                                         'eclipse and the woof nerve just '\n",
      "                                         'kidding if you believe me or explain '\n",
      "                                         'everything'},\n",
      "                       {   'transcript': 'tonight the moon who turns '\n",
      "                                         'spectacular shade of red this '\n",
      "                                         'circuit super blood movement is a '\n",
      "                                         'combination of free phenomenon is '\n",
      "                                         'Superman I lunar eclipse and the '\n",
      "                                         'woof Ner just kidding if you believe '\n",
      "                                         'me or explain everything'}],\n",
      "    'final': True}\n",
      "Transcript:  tonight the moon who turns spectacular shade of red Disco super blood movement is a combination of free phenomena is Superman I lunar eclipse and the woof Ner just kidding if you believe me or explain everything\n"
     ]
    }
   ],
   "source": [
    "r = sr.Recognizer()\n",
    "\n",
    "with sr.AudioFile('output.wav') as source:\n",
    "    audio_text = r.record(source)\n",
    "\n",
    "try:\n",
    "    text = r.recognize_google(audio_text)\n",
    "    print(\"Transcript: \",text)\n",
    "except sr.UnknownValueError:\n",
    "    print(\"Google Speech Recognition could not understand audio\")\n",
    "except sr.RequestError as e:\n",
    "    print(\"Could not request results from Google Speech Recognition service; {0}\".format(e))\n"
   ]
  },
  {
   "cell_type": "markdown",
   "id": "c35a9559",
   "metadata": {},
   "source": [
    "## 2. text -> summary"
   ]
  },
  {
   "cell_type": "code",
   "execution_count": 4,
   "id": "47918c68",
   "metadata": {
    "scrolled": true
   },
   "outputs": [
    {
     "name": "stdout",
     "output_type": "stream",
     "text": [
      "tonight moon turns spectacular shade red Disco super blood movement \n"
     ]
    }
   ],
   "source": [
    "sentences = sent_tokenize(text)\n",
    "# Tokenize the sentences into words\n",
    "words = word_tokenize(text)\n",
    "# Remove stop words from the words list\n",
    "stop_words = set(stopwords.words('english'))\n",
    "filtered_words = [word for word in words if not word.lower() in stop_words]\n",
    "# Calculate the frequency distribution of the words\n",
    "fdist = FreqDist(filtered_words)\n",
    "# Get the 10 most frequent words\n",
    "top_words = fdist.most_common(10)\n",
    "# Generate the summary from the top words\n",
    "summary = \"\"\n",
    "for word in top_words:\n",
    "    summary += word[0] + \" \"\n",
    "print(summary)"
   ]
  },
  {
   "cell_type": "code",
   "execution_count": null,
   "id": "fd8960c2",
   "metadata": {},
   "outputs": [],
   "source": []
  }
 ],
 "metadata": {
  "kernelspec": {
   "display_name": "Python 3 (ipykernel)",
   "language": "python",
   "name": "python3"
  },
  "language_info": {
   "codemirror_mode": {
    "name": "ipython",
    "version": 3
   },
   "file_extension": ".py",
   "mimetype": "text/x-python",
   "name": "python",
   "nbconvert_exporter": "python",
   "pygments_lexer": "ipython3",
   "version": "3.11.2"
  }
 },
 "nbformat": 4,
 "nbformat_minor": 5
}
