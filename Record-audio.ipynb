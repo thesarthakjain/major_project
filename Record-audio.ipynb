{
 "cells": [
  {
   "cell_type": "markdown",
   "id": "007adc15",
   "metadata": {},
   "source": [
    "# Use this to record system audio to 'output.wav'\n",
    "---"
   ]
  },
  {
   "cell_type": "code",
   "execution_count": 1,
   "id": "54b369d4",
   "metadata": {
    "scrolled": true
   },
   "outputs": [
    {
     "name": "stdout",
     "output_type": "stream",
     "text": [
      "Requirement already satisfied: pyaudio in c:\\users\\banana\\appdata\\local\\programs\\python\\python311\\lib\\site-packages (0.2.13)\n"
     ]
    }
   ],
   "source": [
    "!pip install pyaudio"
   ]
  },
  {
   "cell_type": "code",
   "execution_count": 2,
   "id": "b55ec0ba",
   "metadata": {},
   "outputs": [],
   "source": [
    "import pyaudio\n",
    "import wave"
   ]
  },
  {
   "cell_type": "code",
   "execution_count": 3,
   "id": "ad7a1adf",
   "metadata": {},
   "outputs": [],
   "source": [
    "chunk = 1024  # Number of frames in buffer\n",
    "sample_format = pyaudio.paInt16  # 16 bits per sample\n",
    "channels = 1  # Stereo\n",
    "fs = 44100  # Sample rate\n",
    "seconds = 60  # Duration of recording"
   ]
  },
  {
   "cell_type": "code",
   "execution_count": 4,
   "id": "78f7d500",
   "metadata": {},
   "outputs": [],
   "source": [
    "p = pyaudio.PyAudio()  # Create an interface to PortAudio"
   ]
  },
  {
   "cell_type": "code",
   "execution_count": 5,
   "id": "fa4ce93e",
   "metadata": {},
   "outputs": [
    {
     "name": "stdout",
     "output_type": "stream",
     "text": [
      "Input Device id  0  -  Microsoft Sound Mapper - Input\n",
      "Input Device id  1  -  Stereo Mix (Realtek(R) Audio)\n",
      "Input Device id  2  -  Microphone (DroidCam Virtual Au\n",
      "Input Device id  3  -  Microphone Array (Realtek(R) Au\n"
     ]
    }
   ],
   "source": [
    "# Check available audio devices\n",
    "info = p.get_host_api_info_by_index(0)\n",
    "numdevices = info.get('deviceCount')\n",
    "for i in range(0, numdevices):\n",
    "        if (p.get_device_info_by_host_api_device_index(0, i).get('maxInputChannels')) > 0:\n",
    "            print(\"Input Device id \", i, \" - \", p.get_device_info_by_host_api_device_index(0, i).get('name'))\n"
   ]
  },
  {
   "cell_type": "code",
   "execution_count": 6,
   "id": "3eb3fcd8",
   "metadata": {},
   "outputs": [],
   "source": [
    "# Set the audio input device to Stereo Mix or What U Hear\n",
    "device_index = None\n",
    "for i in range(p.get_device_count()):\n",
    "    dev = p.get_device_info_by_index(i)\n",
    "    if 'Stereo Mix' in dev['name']:\n",
    "        device_index = dev['index']\n",
    "        break\n",
    "    elif 'What U Hear' in dev['name']:\n",
    "        device_index = dev['index']\n",
    "        break\n"
   ]
  },
  {
   "cell_type": "code",
   "execution_count": 7,
   "id": "99a0e24f",
   "metadata": {},
   "outputs": [],
   "source": [
    "# Open the audio stream\n",
    "stream = p.open(format=sample_format,\n",
    "                channels=channels,\n",
    "                rate=fs,\n",
    "                frames_per_buffer=chunk,\n",
    "                input=True,\n",
    "                input_device_index=device_index)\n",
    "\n",
    "frames = []  # Initialize array to store frames\n",
    "\n",
    "# Record audio in chunks\n",
    "for i in range(0, int(fs / chunk * seconds)):\n",
    "    data = stream.read(chunk)\n",
    "    frames.append(data)\n",
    "\n",
    "# Stop and close the stream\n",
    "stream.stop_stream()\n",
    "stream.close()\n",
    "\n",
    "# Terminate the PortAudio interface\n",
    "p.terminate()\n",
    "\n",
    "# Save the recorded data as a WAV file\n",
    "wf = wave.open(\"output.wav\", \"wb\")\n",
    "wf.setnchannels(channels)\n",
    "wf.setsampwidth(p.get_sample_size(sample_format))\n",
    "wf.setframerate(fs)\n",
    "wf.writeframes(b\"\".join(frames))\n",
    "wf.close()\n"
   ]
  }
 ],
 "metadata": {
  "kernelspec": {
   "display_name": "Python 3 (ipykernel)",
   "language": "python",
   "name": "python3"
  },
  "language_info": {
   "codemirror_mode": {
    "name": "ipython",
    "version": 3
   },
   "file_extension": ".py",
   "mimetype": "text/x-python",
   "name": "python",
   "nbconvert_exporter": "python",
   "pygments_lexer": "ipython3",
   "version": "3.11.2"
  }
 },
 "nbformat": 4,
 "nbformat_minor": 5
}
